{
 "cells": [
  {
   "cell_type": "markdown",
   "id": "3f25b3af",
   "metadata": {},
   "source": [
    "TASK 1 THE GAME"
   ]
  },
  {
   "cell_type": "code",
   "execution_count": 85,
   "id": "3a742fc0",
   "metadata": {},
   "outputs": [
    {
     "name": "stdout",
     "output_type": "stream",
     "text": [
      "44\n",
      "Guess a secret number between 1 and 50: 1\n",
      "Try again! Your guess is too low. You have 4 attempts left\n",
      "\n",
      "\n",
      "Guess a secret number between 1 and 50: 2\n",
      "Try again! Your guess is too low. You have 3 attempts left\n",
      "\n",
      "\n",
      "Guess a secret number between 1 and 50: 50\n",
      "Try again! Your guess is too high. You have 2 attempts left\n",
      "\n",
      "\n",
      "Guess a secret number between 1 and 50: c\n",
      "Invalid input! Please enter a valid number\n",
      "Guess a secret number between 1 and 50: 23\n",
      "Try again! Your guess is too low. You have 1 attempts left\n",
      "\n",
      "\n",
      "Guess a secret number between 1 and 50: 23\n",
      "Game Over! The Secret Number was 44.Better luck next time\n"
     ]
    }
   ],
   "source": [
    "from random import randint\n",
    "secret_number = randint(1,50)\n",
    "print(secret_number)    #printing for my understanding.\n",
    "\n",
    "attempts = 5\n",
    "\n",
    "while attempts > 0:\n",
    "    \n",
    "        try:\n",
    "             guess = int(input(\"Guess a secret number between 1 and 50: \"))\n",
    "        \n",
    "        except ValueError:\n",
    "            print (\"Invalid input! Please enter a valid number\") \n",
    "            continue\n",
    "         \n",
    "        if guess == secret_number:\n",
    "            print(f\"Congratulations! You have guessed the secret number {secret_number} correctly.\")\n",
    "            break\n",
    "              \n",
    "        \n",
    "        elif guess > secret_number:\n",
    "            attempts -= 1 \n",
    "                \n",
    "            if attempts == 0:\n",
    "                print(f\"Game Over! The Secret Number was {secret_number}.Better luck next time\")\n",
    "                break\n",
    "                \n",
    "            else:\n",
    "                print(f\"Try again! Your guess is too high. You have {attempts} attempts left\") \n",
    "                print(\"\\n\")\n",
    "     \n",
    "        elif guess < secret_number:\n",
    "            attempts -= 1  \n",
    "                \n",
    "            if attempts == 0:\n",
    "                print(f\"Game Over! The Secret Number was {secret_number}.Better luck next time\")\n",
    "                break\n",
    "                \n",
    "            else:\n",
    "                print(f\"Try again! Your guess is too low. You have {attempts} attempts left\")\n",
    "                print(\"\\n\")\n",
    "    \n",
    "else:\n",
    "    print(f\"Game Over! The Secret Number was {secret_number}.Better luck next time\")\n",
    "    "
   ]
  },
  {
   "cell_type": "markdown",
   "id": "9bcf678d",
   "metadata": {},
   "source": [
    "TASK 2"
   ]
  },
  {
   "cell_type": "code",
   "execution_count": 19,
   "id": "aba230f7",
   "metadata": {},
   "outputs": [
    {
     "data": {
      "text/plain": [
       "10"
      ]
     },
     "execution_count": 19,
     "metadata": {},
     "output_type": "execute_result"
    }
   ],
   "source": [
    "# Question a)\n",
    "\n",
    "def num_vowels (string):\n",
    "    vowels = \"aeiouAEIOU\"\n",
    "    count = 0\n",
    "    \n",
    "    for letters in string:\n",
    "        if letters in vowels:\n",
    "            count += 1\n",
    "        \n",
    "    return count\n",
    "    \n",
    "num_vowels(\"Learning Python is fun and engaging\") "
   ]
  },
  {
   "cell_type": "code",
   "execution_count": 17,
   "id": "ee855de3",
   "metadata": {},
   "outputs": [
    {
     "data": {
      "text/plain": [
       "150.0"
      ]
     },
     "execution_count": 17,
     "metadata": {},
     "output_type": "execute_result"
    }
   ],
   "source": [
    "#Question b)\n",
    "\n",
    "def hours_to_min (hrs):\n",
    "    \n",
    "    conversion = hrs*60\n",
    "    \n",
    "    return conversion\n",
    "    \n",
    "hours_to_min(2.5)    "
   ]
  },
  {
   "cell_type": "code",
   "execution_count": 29,
   "id": "df250ad8",
   "metadata": {},
   "outputs": [
    {
     "name": "stdout",
     "output_type": "stream",
     "text": [
      "5 x 1 =  5\n",
      "5 x 2 =  10\n",
      "5 x 3 =  15\n",
      "5 x 4 =  20\n",
      "5 x 5 =  25\n",
      "5 x 6 =  30\n",
      "5 x 7 =  35\n",
      "5 x 8 =  40\n",
      "5 x 9 =  45\n",
      "5 x 10 =  50\n",
      "5 x 11 =  55\n",
      "5 x 12 =  60\n"
     ]
    }
   ],
   "source": [
    "#Question c)\n",
    "\n",
    "def table(num):\n",
    "    \n",
    "        print(f\"{num} x 1 = \",  num*1)\n",
    "              \n",
    "        print(f\"{num} x 2 = \",  num*2)\n",
    "              \n",
    "        print(f\"{num} x 3 = \",  num*3)\n",
    "              \n",
    "        print(f\"{num} x 4 = \",  num*4)\n",
    "               \n",
    "        print(f\"{num} x 5 = \",  num*5)\n",
    "              \n",
    "        print(f\"{num} x 6 = \",  num*6)\n",
    "              \n",
    "        print(f\"{num} x 7 = \",  num*7)\n",
    "              \n",
    "        print(f\"{num} x 8 = \",  num*8)\n",
    "              \n",
    "        print(f\"{num} x 9 = \",  num*9)\n",
    "              \n",
    "        print(f\"{num} x 10 = \", num*10)\n",
    "              \n",
    "        print(f\"{num} x 11 = \", num*11)\n",
    "              \n",
    "        print(f\"{num} x 12 = \", num*12)\n",
    "        \n",
    "table(5)      \n",
    "        \n",
    "        \n",
    "        "
   ]
  },
  {
   "cell_type": "code",
   "execution_count": 69,
   "id": "6f435e3a",
   "metadata": {},
   "outputs": [
    {
     "name": "stdout",
     "output_type": "stream",
     "text": [
      "True\n",
      "False\n",
      "False\n",
      "False\n",
      "False\n"
     ]
    }
   ],
   "source": [
    "#Question d)\n",
    "\n",
    "def eligibility (age,prev_gpa):\n",
    "    \n",
    "    if age >= 18  and  4 >= prev_gpa >= 3.0:\n",
    "        return (True)\n",
    "            \n",
    "        \n",
    "    else:\n",
    "        return (False)\n",
    "    \n",
    "    \n",
    "        \n",
    "S1 = eligibility(25,3.5)\n",
    "print(S1)\n",
    "S2 = eligibility(15,4)\n",
    "print(S2)\n",
    "S3 = eligibility(12,2.5)\n",
    "print(S3)\n",
    "S4 = eligibility(20,2.9)\n",
    "print(S4)\n",
    "S5 = eligibility(prev_gpa = 5 , age = 29)\n",
    "print(S5)"
   ]
  }
 ],
 "metadata": {
  "kernelspec": {
   "display_name": "Python 3 (ipykernel)",
   "language": "python",
   "name": "python3"
  },
  "language_info": {
   "codemirror_mode": {
    "name": "ipython",
    "version": 3
   },
   "file_extension": ".py",
   "mimetype": "text/x-python",
   "name": "python",
   "nbconvert_exporter": "python",
   "pygments_lexer": "ipython3",
   "version": "3.11.5"
  }
 },
 "nbformat": 4,
 "nbformat_minor": 5
}
